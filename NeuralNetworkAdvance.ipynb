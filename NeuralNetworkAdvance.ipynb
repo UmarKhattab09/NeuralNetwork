{
  "nbformat": 4,
  "nbformat_minor": 0,
  "metadata": {
    "colab": {
      "provenance": [],
      "authorship_tag": "ABX9TyN7SxkJF7RUwNhGihuz2EB4",
      "include_colab_link": true
    },
    "kernelspec": {
      "name": "python3",
      "display_name": "Python 3"
    },
    "language_info": {
      "name": "python"
    }
  },
  "cells": [
    {
      "cell_type": "markdown",
      "metadata": {
        "id": "view-in-github",
        "colab_type": "text"
      },
      "source": [
        "<a href=\"https://colab.research.google.com/github/UmarKhattab09/NeuralNetwork/blob/main/NeuralNetworkAdvance.ipynb\" target=\"_parent\"><img src=\"https://colab.research.google.com/assets/colab-badge.svg\" alt=\"Open In Colab\"/></a>"
      ]
    },
    {
      "cell_type": "markdown",
      "source": [
        "# BASICS"
      ],
      "metadata": {
        "id": "hbxog2-rOEp2"
      }
    },
    {
      "cell_type": "code",
      "execution_count": null,
      "metadata": {
        "colab": {
          "base_uri": "https://localhost:8080/"
        },
        "id": "plPBe7LhzQf9",
        "outputId": "8c0c562e-c967-4cda-a2be-f4c34cb1e082"
      },
      "outputs": [
        {
          "output_type": "execute_result",
          "data": {
            "text/plain": [
              "2.3"
            ]
          },
          "metadata": {},
          "execution_count": 1
        }
      ],
      "source": [
        "inputs = [1,2,3]\n",
        "weights = [0.2,0.8,-0.5]\n",
        "bias = 2\n",
        "output = inputs[0]*weights[0] + inputs[1]*weights[1] + inputs[2]*weights[2] + bias\n",
        "output"
      ]
    },
    {
      "cell_type": "markdown",
      "source": [],
      "metadata": {
        "id": "P8yuTx9wOEnN"
      }
    },
    {
      "cell_type": "code",
      "source": [
        "inputs = [1,2,3,2.5]\n",
        "weights = [0.2,0.8,-0.5,1.0]\n",
        "bias = 2\n",
        "output = inputs[0]*weights[0] + inputs[1]*weights[1] + inputs[2]*weights[2] + inputs[3]*weights[3] + bias\n",
        "output"
      ],
      "metadata": {
        "colab": {
          "base_uri": "https://localhost:8080/"
        },
        "id": "AMIUX07F0chr",
        "outputId": "10e6f4d0-bf42-4d1e-a4d2-71193e32c7f9"
      },
      "execution_count": null,
      "outputs": [
        {
          "output_type": "execute_result",
          "data": {
            "text/plain": [
              "4.8"
            ]
          },
          "metadata": {},
          "execution_count": 2
        }
      ]
    },
    {
      "cell_type": "code",
      "source": [
        "inputs = [1,2,3,2.5]\n",
        "weights = [0.2,0.8,-0.5,1.0]\n",
        "weights1= [0.5,-0.91,0.26,-0.5]\n",
        "weights2 = [-0.26,-0.27,0.17,0.87]\n",
        "bias1 = 2\n",
        "bias2 = 3\n",
        "bias3 = 0.5\n",
        "\n",
        "output= [inputs[0]*weights[0] + inputs[1]*weights[1] + inputs[2]*weights[2] + inputs[3]*weights[3] + bias1,\n",
        "         inputs[0]*weights1[0] + inputs[1]*weights1[1] + inputs[2]*weights1[2] + inputs[3]*weights1[3] + bias2,\n",
        "         inputs[0]*weights2[0] + inputs[1]*weights2[1] + inputs[2]*weights2[2] + inputs[3]*weights2[3] + bias3]\n",
        "output"
      ],
      "metadata": {
        "colab": {
          "base_uri": "https://localhost:8080/"
        },
        "id": "DOSH7kIV0dQV",
        "outputId": "752d155f-29b1-48a6-86b6-7c4b4cc6d315"
      },
      "execution_count": null,
      "outputs": [
        {
          "output_type": "execute_result",
          "data": {
            "text/plain": [
              "[4.8, 1.21, 2.385]"
            ]
          },
          "metadata": {},
          "execution_count": 3
        }
      ]
    },
    {
      "cell_type": "code",
      "source": [
        "inputs = [[1,2,3,2.5],\n",
        "          [2.0,5.0,-1.0,2.0],\n",
        "          [-1.5,2.7,3.3,-0.8]]\n",
        "weights = [[0.2,0.8,-0.5,1.0],\n",
        "           [0.5,-0.91,0.26,-0.5],\n",
        "           [-0.26,-0.27,0.17,0.87]]\n",
        "bias1 = [2,3,0.5]\n",
        "layer_outputs = np.dot(inputs,np.array(weights).T) + bias1\n",
        "\n",
        "layer_outputs"
      ],
      "metadata": {
        "colab": {
          "base_uri": "https://localhost:8080/"
        },
        "id": "VkgnIMX3J7am",
        "outputId": "158269da-3df0-4130-e3b9-942bb296d76f"
      },
      "execution_count": null,
      "outputs": [
        {
          "output_type": "execute_result",
          "data": {
            "text/plain": [
              "array([[ 4.8  ,  1.21 ,  2.385],\n",
              "       [ 8.9  , -1.81 ,  0.2  ],\n",
              "       [ 1.41 ,  1.051,  0.026]])"
            ]
          },
          "metadata": {},
          "execution_count": 5
        }
      ]
    },
    {
      "cell_type": "code",
      "source": [
        "weights2 = [[0.1,-0.14,0.5],\n",
        "           [-0.5,0.12,0.-0.33],\n",
        "           [-0.44,0.73,-0.13]]\n",
        "bias2 = [-1,2,-0.5]\n",
        "layer1_output = np.dot(inputs,np.array(weights).T) + bias1\n",
        "\n",
        "layer2_output = np.dot(layer1_output,np.array(weights2).T) + bias2\n",
        "layer2_output"
      ],
      "metadata": {
        "id": "aRPN7fZRJ7dX",
        "colab": {
          "base_uri": "https://localhost:8080/"
        },
        "outputId": "6aa754f5-c0ce-4387-e1b9-8182e3933ce4"
      },
      "execution_count": null,
      "outputs": [
        {
          "output_type": "execute_result",
          "data": {
            "text/plain": [
              "array([[ 0.5031 , -1.04185, -2.03875],\n",
              "       [ 0.2434 , -2.7332 , -5.7633 ],\n",
              "       [-0.99314,  1.41254, -0.35655]])"
            ]
          },
          "metadata": {},
          "execution_count": 6
        }
      ]
    },
    {
      "cell_type": "code",
      "source": [
        "X =[[1,2,3,2.5],\n",
        " [2.0,5.0,-1.0,2.0],\n",
        "  [-1.5,2.7,3.3,-0.8]]\n",
        "np.random.seed(0)\n",
        "#SIZE OF INPUT AND NEURON\n",
        "class Layer_Dense:\n",
        "  def __init__(self,n_inputs,n_neurons):\n",
        "    self.weights = 0.10*np.random.randn(n_inputs,n_neurons)\n",
        "    self.biases = np.zeros((1,n_neurons))\n",
        "  def forward(self,inputs):\n",
        "    self.output = np.dot(inputs,self.weights) + self.biases\n",
        "\n",
        "#INPUTS = 3X4 , #WEIGHTS/NEURON = 4,5\n",
        "\n",
        "Layer1 = Layer_Dense(4,5)\n",
        "Layer2 = Layer_Dense(5,2)\n",
        "\n",
        "Layer1.forward(X)\n",
        "print(Layer1.output)\n",
        "Layer2.forward(Layer1.output)\n",
        "print(Layer2.output)\n",
        "\n",
        "\n",
        "\n",
        "\n",
        "\n",
        "# print(0.10*np.random.randn(4,3))\n",
        "# print(np.zeros(1,3))\n"
      ],
      "metadata": {
        "colab": {
          "base_uri": "https://localhost:8080/"
        },
        "id": "QjdpqlvMgxGC",
        "outputId": "ae6b0ca5-741f-4131-9146-e062160052f2"
      },
      "execution_count": null,
      "outputs": [
        {
          "output_type": "stream",
          "name": "stdout",
          "text": [
            "[[ 0.10758131  1.03983522  0.24462411  0.31821498  0.18851053]\n",
            " [-0.08349796  0.70846411  0.00293357  0.44701525  0.36360538]\n",
            " [-0.50763245  0.55688422  0.07987797 -0.34889573  0.04553042]]\n",
            "[[ 0.148296   -0.08397602]\n",
            " [ 0.14100315 -0.01340469]\n",
            " [ 0.20124979 -0.07290616]]\n"
          ]
        }
      ]
    },
    {
      "cell_type": "code",
      "source": [
        "print(0.10*np.random.randn(4,3))\n",
        "np.shape(X)"
      ],
      "metadata": {
        "colab": {
          "base_uri": "https://localhost:8080/"
        },
        "id": "qofOQzPBoF6t",
        "outputId": "0ef7d24e-56da-4193-ae48-1bab92a34205"
      },
      "execution_count": null,
      "outputs": [
        {
          "output_type": "stream",
          "name": "stdout",
          "text": [
            "[[ 0.01549474  0.03781625 -0.08877857]\n",
            " [-0.19807965 -0.03479121  0.0156349 ]\n",
            " [ 0.12302907  0.12023798 -0.03873268]\n",
            " [-0.03023028 -0.1048553  -0.14200179]]\n"
          ]
        },
        {
          "output_type": "execute_result",
          "data": {
            "text/plain": [
              "(3, 4)"
            ]
          },
          "metadata": {},
          "execution_count": 8
        }
      ]
    },
    {
      "cell_type": "code",
      "source": [
        "#ACTIVATION FUNCITON\n",
        "#RELU\n",
        "#SIGMOID\n",
        "#STEP\n",
        "#LINEAR\n",
        "!pip install nnfs"
      ],
      "metadata": {
        "id": "Ne6gfoeFoF8x",
        "colab": {
          "base_uri": "https://localhost:8080/"
        },
        "outputId": "d5d4f06a-29ea-4334-a8d4-0573321942db"
      },
      "execution_count": null,
      "outputs": [
        {
          "output_type": "stream",
          "name": "stdout",
          "text": [
            "Collecting nnfs\n",
            "  Downloading nnfs-0.5.1-py3-none-any.whl.metadata (1.7 kB)\n",
            "Requirement already satisfied: numpy in /usr/local/lib/python3.11/dist-packages (from nnfs) (2.0.2)\n",
            "Downloading nnfs-0.5.1-py3-none-any.whl (9.1 kB)\n",
            "Installing collected packages: nnfs\n",
            "Successfully installed nnfs-0.5.1\n"
          ]
        }
      ]
    },
    {
      "cell_type": "code",
      "source": [
        "#RELU\n",
        "import numpy as np\n",
        "import nnfs\n",
        "from nnfs.datasets import spiral_data\n",
        "X,y = spiral_data(100,3)\n",
        "\n",
        "nnfs.init()\n",
        "inputs = [0,2,-1,3.3,-2.7,1.1,2.2,-100]\n",
        "output = []\n",
        "\"\"\"\n",
        "for i in inputs:\n",
        "  if i > 0:\n",
        "    output.append(i)\n",
        "  elif i<= 0:\n",
        "    output.append(0)\n",
        "\"\"\"\n",
        "for i in inputs:\n",
        "  output.append(max(0,i))\n",
        "\n",
        "class Layer_Dense:\n",
        "  def __init__(self,n_inputs,n_neurons):\n",
        "    self.weights = 0.10*np.random.randn(n_inputs,n_neurons)\n",
        "    self.biases = np.zeros((1,n_neurons))\n",
        "  def forward(self,inputs):\n",
        "    self.output = np.dot(inputs,self.weights) + self.biases\n",
        "\n",
        "class Activation_ReLu:\n",
        "  def forward(self,inputs):\n",
        "    self.output=(np.maximum(0,inputs))\n",
        "\n",
        "\n",
        "layer1 = Layer_Dense(2,5)\n",
        "activation1 = Activation_ReLu()\n",
        "layer1.forward(X)\n",
        "print(layer1.output)\n",
        "activation1.forward(layer1.output)\n",
        "print(activation1.output)\n"
      ],
      "metadata": {
        "colab": {
          "base_uri": "https://localhost:8080/"
        },
        "id": "qkMk-S07yOd0",
        "outputId": "4abe60d2-37d0-454d-be2a-1a1ca5300474"
      },
      "execution_count": null,
      "outputs": [
        {
          "output_type": "stream",
          "name": "stdout",
          "text": [
            "[[ 0.          0.          0.          0.          0.        ]\n",
            " [ 0.00110009  0.00081117  0.0007977   0.00194301  0.00185733]\n",
            " [-0.00215965  0.00187403 -0.00040971 -0.00044718  0.0006292 ]\n",
            " ...\n",
            " [-0.19007577  0.03784086 -0.07845412 -0.16281527 -0.10137865]\n",
            " [-0.19895564  0.01922151 -0.08891971 -0.19022512 -0.13125953]\n",
            " [-0.16893736 -0.04673052 -0.0965353  -0.22277085 -0.18922083]]\n",
            "[[0.         0.         0.         0.         0.        ]\n",
            " [0.00110009 0.00081117 0.0007977  0.00194301 0.00185733]\n",
            " [0.         0.00187403 0.         0.         0.0006292 ]\n",
            " ...\n",
            " [0.         0.03784086 0.         0.         0.        ]\n",
            " [0.         0.01922151 0.         0.         0.        ]\n",
            " [0.         0.         0.         0.         0.        ]]\n"
          ]
        }
      ]
    },
    {
      "cell_type": "code",
      "source": [
        "#SOFTMAX\n",
        "layer_output = [4.8,1.21,2.385]\n",
        "exp_values = np.exp(layer_output)\n",
        "norm_values = exp_values/np.sum(exp_values)\n",
        "print(norm_values)\n",
        "print(np.sum(norm_values))"
      ],
      "metadata": {
        "colab": {
          "base_uri": "https://localhost:8080/"
        },
        "id": "6gdMTXKQzLgc",
        "outputId": "3dbacebb-726d-4dec-807f-fdddff526a40"
      },
      "execution_count": 29,
      "outputs": [
        {
          "output_type": "stream",
          "name": "stdout",
          "text": [
            "[0.89528266 0.02470831 0.08000903]\n",
            "0.9999999999999999\n"
          ]
        }
      ]
    },
    {
      "cell_type": "code",
      "source": [
        "layer_outputs = [[4.8, 1.21, 2.385],\n",
        "                 [8.9, -1.21, 0.2],\n",
        "                 [1.41, 1.051, 0.026]]\n",
        "exp_values = np.exp(layer_outputs)\n",
        "#\n",
        "\n",
        "#print(exp_values)\n",
        "sum = np.sum(exp_values,axis=1,keepdims=True)\n",
        "print(sum)\n",
        "norm_values = exp_values/np.sum(exp_values,axis=1,keepdims=True)\n",
        "\n",
        "print(norm_values)\n",
        "#print(np.sum(norm_values,axis=1))\n"
      ],
      "metadata": {
        "colab": {
          "base_uri": "https://localhost:8080/"
        },
        "id": "v5cxAF6nU5XI",
        "outputId": "fb029022-224c-4ad5-cbbb-e37cc715f87b"
      },
      "execution_count": 40,
      "outputs": [
        {
          "output_type": "stream",
          "name": "stdout",
          "text": [
            "[[ 135.72296484]\n",
            " [7333.49313919]\n",
            " [   7.98280655]]\n",
            "[[8.95282664e-01 2.47083068e-02 8.00090293e-02]\n",
            " [9.99792786e-01 4.06623793e-05 1.66551292e-04]\n",
            " [5.13097164e-01 3.58333899e-01 1.28568936e-01]]\n"
          ]
        }
      ]
    },
    {
      "cell_type": "code",
      "source": [
        "#SOFTMAX\n",
        "import numpy as np\n",
        "import nnfs\n",
        "\n",
        "nnfs.init()\n",
        "\n",
        "inputs = [0,2,-1,3.3,-2.7,1.1,2.2,-100]\n",
        "output = []\n",
        "\n",
        "\n",
        "class Layer_Dense:\n",
        "  def __init__(self,n_inputs,n_neurons):\n",
        "    self.weights = 0.10*np.random.randn(n_inputs,n_neurons)\n",
        "    self.biases = np.zeros((1,n_neurons))\n",
        "  def forward(self,inputs):\n",
        "    self.output = np.dot(inputs,self.weights) + self.biases\n",
        "\n",
        "class Activation_ReLu:\n",
        "  def forward(self,inputs):\n",
        "    self.output=(np.maximum(0,inputs))\n",
        "\n",
        "class Activation_Softmax:\n",
        "  def forward(self,inputs):\n",
        "    exp_values = np.exp(inputs - np.max(inputs,axis=1,keepdims=True))\n",
        "    probabilities = exp_values/np.sum(exp_values,axis=1,keepdims=True)\n",
        "    self.output = probabilities\n",
        "\n",
        "X,y = spiral_data(samples=100,classes=3)\n",
        "\n",
        "dense1 = Layer_Dense(2,3)\n",
        "activation1 = Activation_ReLu()\n",
        "\n",
        "dense2 = Layer_Dense(3,3)\n",
        "activation2 = Activation_Softmax()\n",
        "\n",
        "dense1.forward(X)\n",
        "activation1.forward(dense1.output)\n",
        "dense2.forward(activation1.output)\n",
        "activation2.forward(dense2.output)\n",
        "print(activation2.output[:5])\n",
        "\n",
        "\n",
        "\n",
        "\n",
        "\n",
        "\n",
        "\n"
      ],
      "metadata": {
        "colab": {
          "base_uri": "https://localhost:8080/"
        },
        "id": "BMUXlFwcaRKT",
        "outputId": "d51c3819-42ff-4a4b-995e-42fb3654bccc"
      },
      "execution_count": 46,
      "outputs": [
        {
          "output_type": "stream",
          "name": "stdout",
          "text": [
            "[[0.33333334 0.33333334 0.33333334]\n",
            " [0.33331734 0.3333183  0.33336434]\n",
            " [0.3332888  0.33329153 0.33341965]\n",
            " [0.33325943 0.33326396 0.33347666]\n",
            " [0.33323312 0.33323926 0.33352762]]\n"
          ]
        }
      ]
    },
    {
      "cell_type": "code",
      "source": [
        "\"\"\"\n",
        "log\n",
        "\"\"\"\n",
        "import numpy as np\n",
        "import math\n",
        "b = 5.2\n",
        "x = np.log(b)\n",
        "print(x)\n",
        "\n",
        "print(math.e ** x)\n"
      ],
      "metadata": {
        "colab": {
          "base_uri": "https://localhost:8080/"
        },
        "id": "cnIcw-Cain45",
        "outputId": "b65dbee3-447f-4471-e0c7-d0fc8b4e98b2"
      },
      "execution_count": 52,
      "outputs": [
        {
          "output_type": "stream",
          "name": "stdout",
          "text": [
            "1.6486586255873816\n",
            "5.199999999999999\n"
          ]
        }
      ]
    },
    {
      "cell_type": "code",
      "source": [
        "import math\n",
        "math.log\n",
        "softmax_output = [0.7,0.1,0.2]\n",
        "target_output = [1,0,0]\n",
        "loss = -(math.log(softmax_output[0])*target_output[0] +\n",
        "         math.log(softmax_output[1])*target_output[1] +\n",
        "         math.log(softmax_output[2])*target_output[2])\n",
        "print(loss)"
      ],
      "metadata": {
        "colab": {
          "base_uri": "https://localhost:8080/"
        },
        "id": "cfWGsD4djkR0",
        "outputId": "c41f88b3-066b-47af-98e9-e19ea1f3387d"
      },
      "execution_count": 53,
      "outputs": [
        {
          "output_type": "stream",
          "name": "stdout",
          "text": [
            "0.35667494393873245\n"
          ]
        }
      ]
    },
    {
      "cell_type": "code",
      "source": [
        "import numpy as np\n",
        "softmax_output=np.array([[0.7,0.1,0.2],[0.1,0.5,0.4],[0.02,0.9,0.08]])\n",
        "target_output = [0,1,1]\n",
        "\n",
        "softmax_output.shape\n",
        "softmax_output[ range(len(softmax_output)), target_output ]\n",
        "\n",
        "\n",
        "print(-np.log(softmax_output[ range(len(softmax_output)), target_output ]))\n",
        "\n",
        "average_loss = np.mean(-np.log(softmax_output[ range(len(softmax_output)), target_output ]))\n",
        "print(average_loss)\n",
        "#\n"
      ],
      "metadata": {
        "colab": {
          "base_uri": "https://localhost:8080/"
        },
        "id": "VoGcTaC5s0I0",
        "outputId": "94185532-154f-426f-80a7-3c014fa33bff"
      },
      "execution_count": 91,
      "outputs": [
        {
          "output_type": "stream",
          "name": "stdout",
          "text": [
            "[0.35667494 0.69314718 0.10536052]\n",
            "0.38506088005216804\n"
          ]
        }
      ]
    },
    {
      "cell_type": "markdown",
      "source": [
        "# using SPIRAL DATA SET."
      ],
      "metadata": {
        "id": "rLjwOAILOLAv"
      }
    },
    {
      "cell_type": "code",
      "source": [
        "import numpy as np\n",
        "import nnfs\n",
        "\n",
        "nnfs.init()\n",
        "\n",
        "inputs = [0,2,-1,3.3,-2.7,1.1,2.2,-100]\n",
        "output = []\n",
        "drop = []\n",
        "\n",
        "class Layer_Dense:\n",
        "  def __init__(self,n_inputs,n_neurons):\n",
        "    self.weights = 0.10*np.random.randn(n_inputs,n_neurons)\n",
        "    self.biases = np.zeros((1,n_neurons))\n",
        "  def forward(self,inputs):\n",
        "    self.output = np.dot(inputs,self.weights) + self.biases\n",
        "\n",
        "class Activation_ReLu:\n",
        "  def forward(self,inputs):\n",
        "    self.output=(np.maximum(0,inputs))\n",
        "\n",
        "class Activation_Softmax:\n",
        "  def forward(self,inputs):\n",
        "    exp_values = np.exp(inputs - np.max(inputs,axis=1,keepdims=True))\n",
        "    probabilities = exp_values/np.sum(exp_values,axis=1,keepdims=True)\n",
        "    self.output = probabilities\n",
        "\n",
        "class Loss:\n",
        "  def calculate(self,output,y):\n",
        "    sample_losses = self.forward(output,y)\n",
        "    data_loss = np.mean(sample_losses)\n",
        "    return data_loss\n",
        "\n",
        "class Loss_CategoricalCrossentropy(Loss):\n",
        "  def forward(self,y_pred,y_true):\n",
        "    samples = len(y_pred)\n",
        "    y_pred_clipped = np.clip(y_pred,1e-7,1-1e-7)\n",
        "\n",
        "    if len(y_true.shape) == 1:\n",
        "      correct_confidences = y_pred_clipped[range(samples),y_true]\n",
        "\n",
        "    elif len(y_true.shape) == 2:\n",
        "      correct_confidences = np.sum(y_pred_clipped*y_true,axis=1)\n",
        "\n",
        "    negative_log_likelihoods = -np.log(correct_confidences)\n",
        "    return negative_log_likelihoods\n",
        "\n",
        "\n",
        "X,y = spiral_data(samples=100,classes=3)\n",
        "\n",
        "dense1 = Layer_Dense(2,3)\n",
        "activation1 = Activation_ReLu()\n",
        "\n",
        "dense2 = Layer_Dense(3,3)\n",
        "activation2 = Activation_Softmax()\n",
        "\n",
        "dense1.forward(X)\n",
        "activation1.forward(dense1.output)\n",
        "dense2.forward(activation1.output)\n",
        "activation2.forward(dense2.output)\n",
        "\n",
        "\n",
        "loss_function = Loss_CategoricalCrossentropy()\n",
        "loss = loss_function.calculate(activation2.output,y)\n",
        "lowest_loss = 9999999  # some initial value\n",
        "best_dense1_weights = dense1.weights.copy()\n",
        "best_dense1_biases = dense1.biases.copy()\n",
        "best_dense2_weights = dense2.weights.copy()\n",
        "best_dense2_biases = dense2.biases.copy()\n",
        "\n",
        "for iteration in range(10000):\n",
        "\n",
        "    # Update weights with some small random values\n",
        "    dense1.weights += 0.05 * np.random.randn(2, 3)\n",
        "    dense1.biases += 0.05 * np.random.randn(1, 3)\n",
        "    dense2.weights += 0.05 * np.random.randn(3, 3)\n",
        "    dense2.biases += 0.05 * np.random.randn(1, 3)\n",
        "\n",
        "    # Perform a forward pass of our training data through this layer\n",
        "    dense1.forward(X)\n",
        "    activation1.forward(dense1.output)\n",
        "    dense2.forward(activation1.output)\n",
        "    activation2.forward(dense2.output)\n",
        "\n",
        "    # Perform a forward pass through activation function\n",
        "    # it takes the output of second dense layer here and returns loss\n",
        "    loss = loss_function.calculate(activation2.output, y)\n",
        "    drop.append(loss)\n",
        "    # Calculate accuracy from output of activation2 and targets\n",
        "    # calculate values along first axis\n",
        "    predictions = np.argmax(activation2.output, axis=1)\n",
        "    accuracy = np.mean(predictions==y)\n",
        "\n",
        "    # If loss is smaller - print and save weights and biases aside\n",
        "    if loss < lowest_loss:\n",
        "        print('New set of weights found, iteration:', iteration,\n",
        "              'loss:', loss, 'acc:', accuracy)\n",
        "        best_dense1_weights = dense1.weights.copy()\n",
        "        best_dense1_biases = dense1.biases.copy()\n",
        "        best_dense2_weights = dense2.weights.copy()\n",
        "        best_dense2_biases = dense2.biases.copy()\n",
        "        lowest_loss = loss\n",
        "    # Revert weights and biases\n",
        "    else:\n",
        "        dense1.weights = best_dense1_weights.copy()\n",
        "        dense1.biases = best_dense1_biases.copy()\n",
        "        dense2.weights = best_dense2_weights.copy()\n",
        "        dense2.biases = best_dense2_biases.copy()\n",
        "\n",
        "\n",
        "plt.plot(drop)\n",
        "\n"
      ],
      "metadata": {
        "colab": {
          "base_uri": "https://localhost:8080/",
          "height": 1000
        },
        "id": "tkLHxGvbvHS2",
        "outputId": "e6f43331-2729-4703-c4d1-9bb0a6d4fccd"
      },
      "execution_count": 129,
      "outputs": [
        {
          "output_type": "stream",
          "name": "stdout",
          "text": [
            "New set of weights found, iteration: 0 loss: 1.1010509 acc: 0.3333333333333333\n",
            "New set of weights found, iteration: 1 loss: 1.0993538 acc: 0.3333333333333333\n",
            "New set of weights found, iteration: 2 loss: 1.0988902 acc: 0.3333333333333333\n",
            "New set of weights found, iteration: 3 loss: 1.0982764 acc: 0.36\n",
            "New set of weights found, iteration: 8 loss: 1.0982085 acc: 0.33666666666666667\n",
            "New set of weights found, iteration: 9 loss: 1.0977141 acc: 0.34\n",
            "New set of weights found, iteration: 10 loss: 1.0970951 acc: 0.35333333333333333\n",
            "New set of weights found, iteration: 18 loss: 1.0968996 acc: 0.3466666666666667\n",
            "New set of weights found, iteration: 23 loss: 1.09671 acc: 0.33\n",
            "New set of weights found, iteration: 30 loss: 1.0965257 acc: 0.33\n",
            "New set of weights found, iteration: 33 loss: 1.0959501 acc: 0.36\n",
            "New set of weights found, iteration: 35 loss: 1.0957578 acc: 0.3233333333333333\n",
            "New set of weights found, iteration: 37 loss: 1.0952092 acc: 0.35333333333333333\n",
            "New set of weights found, iteration: 44 loss: 1.0948237 acc: 0.3\n",
            "New set of weights found, iteration: 46 loss: 1.0947384 acc: 0.36\n",
            "New set of weights found, iteration: 50 loss: 1.0942118 acc: 0.36333333333333334\n",
            "New set of weights found, iteration: 51 loss: 1.0938162 acc: 0.35\n",
            "New set of weights found, iteration: 60 loss: 1.093808 acc: 0.3466666666666667\n",
            "New set of weights found, iteration: 65 loss: 1.0929242 acc: 0.39666666666666667\n",
            "New set of weights found, iteration: 67 loss: 1.0923737 acc: 0.36\n",
            "New set of weights found, iteration: 72 loss: 1.0922536 acc: 0.3933333333333333\n",
            "New set of weights found, iteration: 106 loss: 1.0918944 acc: 0.39666666666666667\n",
            "New set of weights found, iteration: 115 loss: 1.0918849 acc: 0.38666666666666666\n",
            "New set of weights found, iteration: 122 loss: 1.091882 acc: 0.36333333333333334\n",
            "New set of weights found, iteration: 126 loss: 1.0918152 acc: 0.39666666666666667\n",
            "New set of weights found, iteration: 127 loss: 1.0915654 acc: 0.3433333333333333\n",
            "New set of weights found, iteration: 129 loss: 1.0904304 acc: 0.35\n",
            "New set of weights found, iteration: 133 loss: 1.0895492 acc: 0.4166666666666667\n",
            "New set of weights found, iteration: 141 loss: 1.088446 acc: 0.36666666666666664\n",
            "New set of weights found, iteration: 185 loss: 1.0879163 acc: 0.37666666666666665\n",
            "New set of weights found, iteration: 198 loss: 1.0875585 acc: 0.4\n",
            "New set of weights found, iteration: 214 loss: 1.0868126 acc: 0.43666666666666665\n",
            "New set of weights found, iteration: 225 loss: 1.0866557 acc: 0.43333333333333335\n",
            "New set of weights found, iteration: 241 loss: 1.0858346 acc: 0.43333333333333335\n",
            "New set of weights found, iteration: 250 loss: 1.0857482 acc: 0.4266666666666667\n",
            "New set of weights found, iteration: 259 loss: 1.0853168 acc: 0.44\n",
            "New set of weights found, iteration: 268 loss: 1.0851893 acc: 0.41\n",
            "New set of weights found, iteration: 272 loss: 1.08477 acc: 0.38666666666666666\n",
            "New set of weights found, iteration: 273 loss: 1.0846068 acc: 0.4066666666666667\n",
            "New set of weights found, iteration: 282 loss: 1.0841062 acc: 0.4066666666666667\n",
            "New set of weights found, iteration: 288 loss: 1.0833331 acc: 0.4033333333333333\n",
            "New set of weights found, iteration: 291 loss: 1.0828282 acc: 0.4\n",
            "New set of weights found, iteration: 313 loss: 1.0827482 acc: 0.4066666666666667\n",
            "New set of weights found, iteration: 321 loss: 1.0822175 acc: 0.4\n",
            "New set of weights found, iteration: 341 loss: 1.0821308 acc: 0.39\n",
            "New set of weights found, iteration: 353 loss: 1.0818065 acc: 0.41\n",
            "New set of weights found, iteration: 371 loss: 1.0815884 acc: 0.4\n",
            "New set of weights found, iteration: 447 loss: 1.0809497 acc: 0.4\n",
            "New set of weights found, iteration: 465 loss: 1.0809407 acc: 0.4\n",
            "New set of weights found, iteration: 468 loss: 1.0806565 acc: 0.37666666666666665\n",
            "New set of weights found, iteration: 488 loss: 1.0805104 acc: 0.4\n",
            "New set of weights found, iteration: 660 loss: 1.0804714 acc: 0.36666666666666664\n",
            "New set of weights found, iteration: 661 loss: 1.0801513 acc: 0.37\n",
            "New set of weights found, iteration: 670 loss: 1.0798515 acc: 0.38666666666666666\n",
            "New set of weights found, iteration: 763 loss: 1.0796905 acc: 0.39\n",
            "New set of weights found, iteration: 767 loss: 1.0796098 acc: 0.3566666666666667\n",
            "New set of weights found, iteration: 788 loss: 1.0795237 acc: 0.37\n",
            "New set of weights found, iteration: 876 loss: 1.0794663 acc: 0.37\n",
            "New set of weights found, iteration: 889 loss: 1.0789559 acc: 0.3933333333333333\n",
            "New set of weights found, iteration: 1043 loss: 1.0787954 acc: 0.38333333333333336\n",
            "New set of weights found, iteration: 1434 loss: 1.0786273 acc: 0.37666666666666665\n",
            "New set of weights found, iteration: 1487 loss: 1.0785525 acc: 0.37333333333333335\n",
            "New set of weights found, iteration: 1588 loss: 1.0783939 acc: 0.4033333333333333\n",
            "New set of weights found, iteration: 1606 loss: 1.0778403 acc: 0.3933333333333333\n",
            "New set of weights found, iteration: 1634 loss: 1.0774204 acc: 0.38\n",
            "New set of weights found, iteration: 1647 loss: 1.0773791 acc: 0.39666666666666667\n",
            "New set of weights found, iteration: 1676 loss: 1.0770022 acc: 0.39\n",
            "New set of weights found, iteration: 1812 loss: 1.0768042 acc: 0.38\n",
            "New set of weights found, iteration: 1819 loss: 1.0764462 acc: 0.4033333333333333\n",
            "New set of weights found, iteration: 1883 loss: 1.0762868 acc: 0.4066666666666667\n",
            "New set of weights found, iteration: 1892 loss: 1.0759015 acc: 0.39\n",
            "New set of weights found, iteration: 1897 loss: 1.0758148 acc: 0.37666666666666665\n",
            "New set of weights found, iteration: 1944 loss: 1.0755639 acc: 0.4\n",
            "New set of weights found, iteration: 1951 loss: 1.0755017 acc: 0.38\n",
            "New set of weights found, iteration: 1954 loss: 1.075066 acc: 0.42\n",
            "New set of weights found, iteration: 1967 loss: 1.0750368 acc: 0.4\n",
            "New set of weights found, iteration: 1978 loss: 1.0746595 acc: 0.35\n",
            "New set of weights found, iteration: 2024 loss: 1.0745176 acc: 0.33666666666666667\n",
            "New set of weights found, iteration: 2068 loss: 1.0739459 acc: 0.39666666666666667\n",
            "New set of weights found, iteration: 2102 loss: 1.0737478 acc: 0.4033333333333333\n",
            "New set of weights found, iteration: 2122 loss: 1.0736158 acc: 0.39\n",
            "New set of weights found, iteration: 2226 loss: 1.0735716 acc: 0.39\n",
            "New set of weights found, iteration: 2228 loss: 1.0735042 acc: 0.38666666666666666\n",
            "New set of weights found, iteration: 2303 loss: 1.073492 acc: 0.3933333333333333\n",
            "New set of weights found, iteration: 2306 loss: 1.0733138 acc: 0.38333333333333336\n",
            "New set of weights found, iteration: 2359 loss: 1.073062 acc: 0.39666666666666667\n",
            "New set of weights found, iteration: 2443 loss: 1.072959 acc: 0.42\n",
            "New set of weights found, iteration: 3030 loss: 1.0729576 acc: 0.42\n",
            "New set of weights found, iteration: 3135 loss: 1.0724769 acc: 0.4\n",
            "New set of weights found, iteration: 3273 loss: 1.072426 acc: 0.4066666666666667\n",
            "New set of weights found, iteration: 3789 loss: 1.0720291 acc: 0.4\n",
            "New set of weights found, iteration: 3864 loss: 1.0717943 acc: 0.38\n",
            "New set of weights found, iteration: 4000 loss: 1.071664 acc: 0.4\n",
            "New set of weights found, iteration: 4173 loss: 1.0716425 acc: 0.42\n",
            "New set of weights found, iteration: 4187 loss: 1.0709387 acc: 0.4033333333333333\n",
            "New set of weights found, iteration: 4287 loss: 1.0709268 acc: 0.39666666666666667\n",
            "New set of weights found, iteration: 4326 loss: 1.0705843 acc: 0.4066666666666667\n",
            "New set of weights found, iteration: 4346 loss: 1.070343 acc: 0.38\n",
            "New set of weights found, iteration: 4791 loss: 1.0703079 acc: 0.38333333333333336\n",
            "New set of weights found, iteration: 4851 loss: 1.0701325 acc: 0.39666666666666667\n",
            "New set of weights found, iteration: 6028 loss: 1.0700718 acc: 0.38666666666666666\n",
            "New set of weights found, iteration: 6114 loss: 1.0698813 acc: 0.4033333333333333\n",
            "New set of weights found, iteration: 6240 loss: 1.069722 acc: 0.4\n",
            "New set of weights found, iteration: 7019 loss: 1.0696574 acc: 0.4\n"
          ]
        },
        {
          "output_type": "execute_result",
          "data": {
            "text/plain": [
              "[<matplotlib.lines.Line2D at 0x7ecefdc9dc50>]"
            ]
          },
          "metadata": {},
          "execution_count": 129
        },
        {
          "output_type": "display_data",
          "data": {
            "text/plain": [
              "<Figure size 640x480 with 1 Axes>"
            ],
            "image/png": "[encoded data removed]"
          },
          "metadata": {}
        }
      ]
    },
    {
      "cell_type": "markdown",
      "source": [
        "# Using VERTICAL DATASET"
      ],
      "metadata": {
        "id": "MPZ0AbC4OQ8q"
      }
    },
    {
      "cell_type": "code",
      "source": [
        "import matplotlib.pyplot as plt\n",
        "import nnfs\n",
        "from nnfs.datasets import vertical_data\n",
        "nnfs.init()\n",
        "X, y = vertical_data(samples = 100, classes= 3)\n",
        "plt.scatter(X[:, 0], X[:, 1], c=y, s=40, cmap='brg')\n",
        "plt.show()\n",
        "# Create dataset\n",
        "X, y = vertical_data(samples=100, classes=3)\n",
        "drop = []\n",
        "# Create model\n",
        "dense1 = Layer_Dense(2, 3)  # first dense layer, 2 inputs\n",
        "activation1 = Activation_ReLu()\n",
        "dense2 = Layer_Dense(3, 3)  # second dense layer, 3 inputs, 3 outputs\n",
        "activation2 = Activation_Softmax()\n",
        "\n",
        "# Create loss function\n",
        "loss_function = Loss_CategoricalCrossentropy()\n",
        "\n",
        "# Helper variables\n",
        "lowest_loss = 9999999  # some initial value\n",
        "best_dense1_weights = dense1.weights.copy()\n",
        "best_dense1_biases = dense1.biases.copy()\n",
        "best_dense2_weights = dense2.weights.copy()\n",
        "best_dense2_biases = dense2.biases.copy()\n",
        "\n",
        "for iteration in range(10000):\n",
        "\n",
        "    # Update weights with some small random values\n",
        "    dense1.weights += 0.05 * np.random.randn(2, 3)\n",
        "    dense1.biases += 0.05 * np.random.randn(1, 3)\n",
        "    dense2.weights += 0.05 * np.random.randn(3, 3)\n",
        "    dense2.biases += 0.05 * np.random.randn(1, 3)\n",
        "\n",
        "    # Perform a forward pass of our training data through this layer\n",
        "    dense1.forward(X)\n",
        "    activation1.forward(dense1.output)\n",
        "    dense2.forward(activation1.output)\n",
        "    activation2.forward(dense2.output)\n",
        "\n",
        "    # Perform a forward pass through activation function\n",
        "    # it takes the output of second dense layer here and returns loss\n",
        "    loss = loss_function.calculate(activation2.output, y)\n",
        "    drop.append(loss)\n",
        "    # Calculate accuracy from output of activation2 and targets\n",
        "    # calculate values along first axis\n",
        "    predictions = np.argmax(activation2.output, axis=1)\n",
        "    accuracy = np.mean(predictions==y)\n",
        "\n",
        "    # If loss is smaller - print and save weights and biases aside\n",
        "    if loss < lowest_loss:\n",
        "        print('New set of weights found, iteration:', iteration,\n",
        "              'loss:', loss, 'acc:', accuracy)\n",
        "        best_dense1_weights = dense1.weights.copy()\n",
        "        best_dense1_biases = dense1.biases.copy()\n",
        "        best_dense2_weights = dense2.weights.copy()\n",
        "        best_dense2_biases = dense2.biases.copy()\n",
        "        lowest_loss = loss\n",
        "    # Revert weights and biases\n",
        "    else:\n",
        "        dense1.weights = best_dense1_weights.copy()\n",
        "        dense1.biases = best_dense1_biases.copy()\n",
        "        dense2.weights = best_dense2_weights.copy()\n",
        "        dense2.biases = best_dense2_biases.copy()"
      ],
      "metadata": {
        "colab": {
          "base_uri": "https://localhost:8080/",
          "height": 1000
        },
        "id": "-Hulv6Fd6lTH",
        "outputId": "d7cce069-cfec-4a87-8366-55b8a7c487c4"
      },
      "execution_count": 125,
      "outputs": [
        {
          "output_type": "display_data",
          "data": {
            "text/plain": [
              "<Figure size 640x480 with 1 Axes>"
            ],
            "image/png": "[encoded data removed]"
          },
          "metadata": {}
        },
        {
          "output_type": "stream",
          "name": "stdout",
          "text": [
            "New set of weights found, iteration: 0 loss: 1.1033484 acc: 0.3333333333333333\n",
            "New set of weights found, iteration: 4 loss: 1.1023859 acc: 0.3333333333333333\n",
            "New set of weights found, iteration: 5 loss: 1.102109 acc: 0.3333333333333333\n",
            "New set of weights found, iteration: 6 loss: 1.1001023 acc: 0.3333333333333333\n",
            "New set of weights found, iteration: 7 loss: 1.0987996 acc: 0.3333333333333333\n",
            "New set of weights found, iteration: 12 loss: 1.098511 acc: 0.3333333333333333\n",
            "New set of weights found, iteration: 13 loss: 1.095964 acc: 0.3333333333333333\n",
            "New set of weights found, iteration: 16 loss: 1.0943528 acc: 0.36\n",
            "New set of weights found, iteration: 23 loss: 1.0926024 acc: 0.5666666666666667\n",
            "New set of weights found, iteration: 24 loss: 1.091133 acc: 0.49333333333333335\n",
            "New set of weights found, iteration: 25 loss: 1.0911258 acc: 0.5066666666666667\n",
            "New set of weights found, iteration: 29 loss: 1.0902103 acc: 0.6333333333333333\n",
            "New set of weights found, iteration: 30 loss: 1.0866514 acc: 0.3333333333333333\n",
            "New set of weights found, iteration: 32 loss: 1.0823191 acc: 0.3333333333333333\n",
            "New set of weights found, iteration: 33 loss: 1.080983 acc: 0.3333333333333333\n",
            "New set of weights found, iteration: 34 loss: 1.0802561 acc: 0.45666666666666667\n",
            "New set of weights found, iteration: 37 loss: 1.0770164 acc: 0.3333333333333333\n",
            "New set of weights found, iteration: 39 loss: 1.0764592 acc: 0.5866666666666667\n",
            "New set of weights found, iteration: 40 loss: 1.0723504 acc: 0.5166666666666667\n",
            "New set of weights found, iteration: 48 loss: 1.0696768 acc: 0.6166666666666667\n",
            "New set of weights found, iteration: 50 loss: 1.0662332 acc: 0.5266666666666666\n",
            "New set of weights found, iteration: 53 loss: 1.0634487 acc: 0.38\n",
            "New set of weights found, iteration: 54 loss: 1.0624497 acc: 0.3433333333333333\n",
            "New set of weights found, iteration: 57 loss: 1.0592381 acc: 0.49666666666666665\n",
            "New set of weights found, iteration: 59 loss: 1.0569599 acc: 0.3333333333333333\n",
            "New set of weights found, iteration: 60 loss: 1.0547854 acc: 0.4166666666666667\n",
            "New set of weights found, iteration: 62 loss: 1.0545912 acc: 0.49666666666666665\n",
            "New set of weights found, iteration: 63 loss: 1.0524147 acc: 0.8\n",
            "New set of weights found, iteration: 64 loss: 1.0440476 acc: 0.66\n",
            "New set of weights found, iteration: 65 loss: 1.035532 acc: 0.6666666666666666\n",
            "New set of weights found, iteration: 68 loss: 1.0352834 acc: 0.6666666666666666\n",
            "New set of weights found, iteration: 69 loss: 1.0200049 acc: 0.75\n",
            "New set of weights found, iteration: 71 loss: 1.0084678 acc: 0.87\n",
            "New set of weights found, iteration: 73 loss: 1.0017337 acc: 0.8066666666666666\n",
            "New set of weights found, iteration: 75 loss: 1.0008627 acc: 0.8833333333333333\n",
            "New set of weights found, iteration: 77 loss: 1.0004112 acc: 0.9366666666666666\n",
            "New set of weights found, iteration: 78 loss: 0.99183637 acc: 0.8266666666666667\n",
            "New set of weights found, iteration: 81 loss: 0.98735446 acc: 0.7033333333333334\n",
            "New set of weights found, iteration: 84 loss: 0.9823928 acc: 0.6666666666666666\n",
            "New set of weights found, iteration: 89 loss: 0.981685 acc: 0.6666666666666666\n",
            "New set of weights found, iteration: 94 loss: 0.9728798 acc: 0.6666666666666666\n",
            "New set of weights found, iteration: 97 loss: 0.970197 acc: 0.6666666666666666\n",
            "New set of weights found, iteration: 98 loss: 0.9618689 acc: 0.6633333333333333\n",
            "New set of weights found, iteration: 99 loss: 0.953728 acc: 0.6666666666666666\n",
            "New set of weights found, iteration: 100 loss: 0.94985676 acc: 0.6666666666666666\n",
            "New set of weights found, iteration: 104 loss: 0.93887144 acc: 0.6733333333333333\n",
            "New set of weights found, iteration: 107 loss: 0.93156433 acc: 0.6666666666666666\n",
            "New set of weights found, iteration: 113 loss: 0.929281 acc: 0.6666666666666666\n",
            "New set of weights found, iteration: 115 loss: 0.91183054 acc: 0.6666666666666666\n",
            "New set of weights found, iteration: 121 loss: 0.90686786 acc: 0.6666666666666666\n",
            "New set of weights found, iteration: 122 loss: 0.8903911 acc: 0.6666666666666666\n",
            "New set of weights found, iteration: 127 loss: 0.88293964 acc: 0.6666666666666666\n",
            "New set of weights found, iteration: 130 loss: 0.881108 acc: 0.6666666666666666\n",
            "New set of weights found, iteration: 133 loss: 0.8769354 acc: 0.6666666666666666\n",
            "New set of weights found, iteration: 135 loss: 0.8674803 acc: 0.6666666666666666\n",
            "New set of weights found, iteration: 139 loss: 0.85502887 acc: 0.6666666666666666\n",
            "New set of weights found, iteration: 140 loss: 0.8479402 acc: 0.6666666666666666\n",
            "New set of weights found, iteration: 143 loss: 0.84591 acc: 0.6666666666666666\n",
            "New set of weights found, iteration: 146 loss: 0.8453844 acc: 0.6666666666666666\n",
            "New set of weights found, iteration: 147 loss: 0.84387684 acc: 0.6666666666666666\n",
            "New set of weights found, iteration: 148 loss: 0.82346255 acc: 0.7233333333333334\n",
            "New set of weights found, iteration: 151 loss: 0.8201249 acc: 0.8233333333333334\n",
            "New set of weights found, iteration: 157 loss: 0.81835306 acc: 0.7466666666666667\n",
            "New set of weights found, iteration: 158 loss: 0.80206674 acc: 0.7266666666666667\n",
            "New set of weights found, iteration: 161 loss: 0.7986663 acc: 0.6733333333333333\n",
            "New set of weights found, iteration: 173 loss: 0.7941887 acc: 0.6733333333333333\n",
            "New set of weights found, iteration: 181 loss: 0.79237175 acc: 0.7833333333333333\n",
            "New set of weights found, iteration: 182 loss: 0.7789108 acc: 0.84\n",
            "New set of weights found, iteration: 185 loss: 0.7636448 acc: 0.77\n",
            "New set of weights found, iteration: 187 loss: 0.7548525 acc: 0.76\n",
            "New set of weights found, iteration: 190 loss: 0.74544203 acc: 0.7833333333333333\n",
            "New set of weights found, iteration: 191 loss: 0.7261864 acc: 0.7666666666666667\n",
            "New set of weights found, iteration: 193 loss: 0.7249813 acc: 0.81\n",
            "New set of weights found, iteration: 201 loss: 0.7193689 acc: 0.8666666666666667\n",
            "New set of weights found, iteration: 204 loss: 0.71129984 acc: 0.8366666666666667\n",
            "New set of weights found, iteration: 205 loss: 0.71081525 acc: 0.8366666666666667\n",
            "New set of weights found, iteration: 208 loss: 0.70994645 acc: 0.84\n",
            "New set of weights found, iteration: 210 loss: 0.70585954 acc: 0.8733333333333333\n",
            "New set of weights found, iteration: 212 loss: 0.7034165 acc: 0.9166666666666666\n",
            "New set of weights found, iteration: 214 loss: 0.69735557 acc: 0.8433333333333334\n",
            "New set of weights found, iteration: 215 loss: 0.68606955 acc: 0.9033333333333333\n",
            "New set of weights found, iteration: 216 loss: 0.6822303 acc: 0.92\n",
            "New set of weights found, iteration: 219 loss: 0.68146914 acc: 0.9133333333333333\n",
            "New set of weights found, iteration: 221 loss: 0.67435026 acc: 0.93\n",
            "New set of weights found, iteration: 222 loss: 0.66929525 acc: 0.9433333333333334\n",
            "New set of weights found, iteration: 227 loss: 0.6622676 acc: 0.8866666666666667\n",
            "New set of weights found, iteration: 229 loss: 0.65351063 acc: 0.8433333333333334\n",
            "New set of weights found, iteration: 234 loss: 0.6484198 acc: 0.85\n",
            "New set of weights found, iteration: 238 loss: 0.6409712 acc: 0.8633333333333333\n",
            "New set of weights found, iteration: 244 loss: 0.63817716 acc: 0.92\n",
            "New set of weights found, iteration: 248 loss: 0.63605195 acc: 0.8566666666666667\n",
            "New set of weights found, iteration: 254 loss: 0.6245913 acc: 0.87\n",
            "New set of weights found, iteration: 255 loss: 0.6235833 acc: 0.8133333333333334\n",
            "New set of weights found, iteration: 256 loss: 0.6125559 acc: 0.7966666666666666\n",
            "New set of weights found, iteration: 261 loss: 0.610949 acc: 0.82\n",
            "New set of weights found, iteration: 263 loss: 0.60166526 acc: 0.7866666666666666\n",
            "New set of weights found, iteration: 266 loss: 0.59948343 acc: 0.7766666666666666\n",
            "New set of weights found, iteration: 268 loss: 0.59690034 acc: 0.77\n",
            "New set of weights found, iteration: 270 loss: 0.5922857 acc: 0.7466666666666667\n",
            "New set of weights found, iteration: 275 loss: 0.590259 acc: 0.8133333333333334\n",
            "New set of weights found, iteration: 282 loss: 0.5889553 acc: 0.7933333333333333\n",
            "New set of weights found, iteration: 284 loss: 0.5871327 acc: 0.81\n",
            "New set of weights found, iteration: 296 loss: 0.5825474 acc: 0.7966666666666666\n",
            "New set of weights found, iteration: 297 loss: 0.57677245 acc: 0.8066666666666666\n",
            "New set of weights found, iteration: 298 loss: 0.5709242 acc: 0.8366666666666667\n",
            "New set of weights found, iteration: 299 loss: 0.5576222 acc: 0.83\n",
            "New set of weights found, iteration: 300 loss: 0.5534679 acc: 0.82\n",
            "New set of weights found, iteration: 301 loss: 0.5485781 acc: 0.82\n",
            "New set of weights found, iteration: 306 loss: 0.5461511 acc: 0.8333333333333334\n",
            "New set of weights found, iteration: 307 loss: 0.54031265 acc: 0.85\n",
            "New set of weights found, iteration: 311 loss: 0.5307793 acc: 0.8933333333333333\n",
            "New set of weights found, iteration: 312 loss: 0.52720666 acc: 0.8933333333333333\n",
            "New set of weights found, iteration: 317 loss: 0.51979536 acc: 0.8733333333333333\n",
            "New set of weights found, iteration: 324 loss: 0.5119914 acc: 0.8433333333333334\n",
            "New set of weights found, iteration: 328 loss: 0.50939846 acc: 0.9066666666666666\n",
            "New set of weights found, iteration: 334 loss: 0.5084535 acc: 0.8933333333333333\n",
            "New set of weights found, iteration: 335 loss: 0.50388855 acc: 0.8566666666666667\n",
            "New set of weights found, iteration: 336 loss: 0.4968107 acc: 0.91\n",
            "New set of weights found, iteration: 344 loss: 0.4955861 acc: 0.9033333333333333\n",
            "New set of weights found, iteration: 345 loss: 0.48818704 acc: 0.9333333333333333\n",
            "New set of weights found, iteration: 349 loss: 0.48547623 acc: 0.93\n",
            "New set of weights found, iteration: 356 loss: 0.48245576 acc: 0.94\n",
            "New set of weights found, iteration: 357 loss: 0.47228968 acc: 0.9333333333333333\n",
            "New set of weights found, iteration: 361 loss: 0.46742442 acc: 0.9233333333333333\n",
            "New set of weights found, iteration: 362 loss: 0.4584707 acc: 0.9233333333333333\n",
            "New set of weights found, iteration: 364 loss: 0.4582107 acc: 0.9\n",
            "New set of weights found, iteration: 366 loss: 0.45417312 acc: 0.92\n",
            "New set of weights found, iteration: 367 loss: 0.45369074 acc: 0.93\n",
            "New set of weights found, iteration: 368 loss: 0.45330313 acc: 0.9466666666666667\n",
            "New set of weights found, iteration: 370 loss: 0.450391 acc: 0.9466666666666667\n",
            "New set of weights found, iteration: 372 loss: 0.44890177 acc: 0.9433333333333334\n",
            "New set of weights found, iteration: 377 loss: 0.44171256 acc: 0.95\n",
            "New set of weights found, iteration: 384 loss: 0.43825898 acc: 0.91\n",
            "New set of weights found, iteration: 387 loss: 0.43610254 acc: 0.93\n",
            "New set of weights found, iteration: 390 loss: 0.42828807 acc: 0.9333333333333333\n",
            "New set of weights found, iteration: 392 loss: 0.4257373 acc: 0.9433333333333334\n",
            "New set of weights found, iteration: 399 loss: 0.4227256 acc: 0.9333333333333333\n",
            "New set of weights found, iteration: 403 loss: 0.4195325 acc: 0.9266666666666666\n",
            "New set of weights found, iteration: 407 loss: 0.4164134 acc: 0.9466666666666667\n",
            "New set of weights found, iteration: 415 loss: 0.41434494 acc: 0.95\n",
            "New set of weights found, iteration: 417 loss: 0.41263708 acc: 0.93\n",
            "New set of weights found, iteration: 421 loss: 0.41140252 acc: 0.9366666666666666\n",
            "New set of weights found, iteration: 423 loss: 0.4024677 acc: 0.9333333333333333\n",
            "New set of weights found, iteration: 424 loss: 0.4011755 acc: 0.95\n",
            "New set of weights found, iteration: 425 loss: 0.4009927 acc: 0.9433333333333334\n",
            "New set of weights found, iteration: 426 loss: 0.39563587 acc: 0.9466666666666667\n",
            "New set of weights found, iteration: 428 loss: 0.39214513 acc: 0.9433333333333334\n",
            "New set of weights found, iteration: 432 loss: 0.38847935 acc: 0.9266666666666666\n",
            "New set of weights found, iteration: 433 loss: 0.3856465 acc: 0.92\n",
            "New set of weights found, iteration: 435 loss: 0.38317803 acc: 0.9466666666666667\n",
            "New set of weights found, iteration: 436 loss: 0.38303936 acc: 0.9466666666666667\n",
            "New set of weights found, iteration: 439 loss: 0.37987489 acc: 0.9533333333333334\n",
            "New set of weights found, iteration: 441 loss: 0.37351426 acc: 0.95\n",
            "New set of weights found, iteration: 442 loss: 0.35892537 acc: 0.95\n",
            "New set of weights found, iteration: 446 loss: 0.35618988 acc: 0.9366666666666666\n",
            "New set of weights found, iteration: 449 loss: 0.35394865 acc: 0.94\n",
            "New set of weights found, iteration: 450 loss: 0.34811884 acc: 0.95\n",
            "New set of weights found, iteration: 451 loss: 0.34771997 acc: 0.9433333333333334\n",
            "New set of weights found, iteration: 454 loss: 0.3465381 acc: 0.9533333333333334\n",
            "New set of weights found, iteration: 465 loss: 0.3433748 acc: 0.9466666666666667\n",
            "New set of weights found, iteration: 467 loss: 0.34334362 acc: 0.9166666666666666\n",
            "New set of weights found, iteration: 469 loss: 0.34016046 acc: 0.9366666666666666\n",
            "New set of weights found, iteration: 470 loss: 0.33760265 acc: 0.9466666666666667\n",
            "New set of weights found, iteration: 480 loss: 0.33425513 acc: 0.9433333333333334\n",
            "New set of weights found, iteration: 484 loss: 0.3319071 acc: 0.9333333333333333\n",
            "New set of weights found, iteration: 487 loss: 0.3307917 acc: 0.94\n",
            "New set of weights found, iteration: 492 loss: 0.3294611 acc: 0.93\n",
            "New set of weights found, iteration: 496 loss: 0.32519928 acc: 0.9433333333333334\n",
            "New set of weights found, iteration: 498 loss: 0.3250142 acc: 0.9433333333333334\n",
            "New set of weights found, iteration: 499 loss: 0.3216361 acc: 0.9466666666666667\n",
            "New set of weights found, iteration: 501 loss: 0.3208184 acc: 0.9433333333333334\n",
            "New set of weights found, iteration: 502 loss: 0.3186909 acc: 0.9466666666666667\n",
            "New set of weights found, iteration: 508 loss: 0.31347612 acc: 0.95\n",
            "New set of weights found, iteration: 510 loss: 0.31153998 acc: 0.9466666666666667\n",
            "New set of weights found, iteration: 512 loss: 0.30931103 acc: 0.9433333333333334\n",
            "New set of weights found, iteration: 516 loss: 0.30894813 acc: 0.9366666666666666\n",
            "New set of weights found, iteration: 517 loss: 0.30155963 acc: 0.9433333333333334\n",
            "New set of weights found, iteration: 523 loss: 0.30082545 acc: 0.9466666666666667\n",
            "New set of weights found, iteration: 525 loss: 0.29884425 acc: 0.9466666666666667\n",
            "New set of weights found, iteration: 527 loss: 0.29774705 acc: 0.95\n",
            "New set of weights found, iteration: 531 loss: 0.29575124 acc: 0.95\n",
            "New set of weights found, iteration: 533 loss: 0.29394788 acc: 0.9533333333333334\n",
            "New set of weights found, iteration: 534 loss: 0.2919356 acc: 0.9466666666666667\n",
            "New set of weights found, iteration: 535 loss: 0.29184642 acc: 0.9466666666666667\n",
            "New set of weights found, iteration: 539 loss: 0.291763 acc: 0.9433333333333334\n",
            "New set of weights found, iteration: 549 loss: 0.28900006 acc: 0.94\n",
            "New set of weights found, iteration: 552 loss: 0.28747776 acc: 0.9466666666666667\n",
            "New set of weights found, iteration: 554 loss: 0.28576878 acc: 0.9466666666666667\n",
            "New set of weights found, iteration: 555 loss: 0.28246063 acc: 0.9566666666666667\n",
            "New set of weights found, iteration: 556 loss: 0.27662745 acc: 0.94\n",
            "New set of weights found, iteration: 560 loss: 0.2733519 acc: 0.9433333333333334\n",
            "New set of weights found, iteration: 571 loss: 0.26835504 acc: 0.9466666666666667\n",
            "New set of weights found, iteration: 577 loss: 0.2671439 acc: 0.9433333333333334\n",
            "New set of weights found, iteration: 581 loss: 0.2669833 acc: 0.9433333333333334\n",
            "New set of weights found, iteration: 582 loss: 0.26585856 acc: 0.94\n",
            "New set of weights found, iteration: 592 loss: 0.2644333 acc: 0.9466666666666667\n",
            "New set of weights found, iteration: 603 loss: 0.2634261 acc: 0.9433333333333334\n",
            "New set of weights found, iteration: 605 loss: 0.26145422 acc: 0.94\n",
            "New set of weights found, iteration: 618 loss: 0.26047662 acc: 0.9433333333333334\n",
            "New set of weights found, iteration: 623 loss: 0.26021862 acc: 0.94\n",
            "New set of weights found, iteration: 632 loss: 0.25919253 acc: 0.95\n",
            "New set of weights found, iteration: 635 loss: 0.25589275 acc: 0.9433333333333334\n",
            "New set of weights found, iteration: 637 loss: 0.24917531 acc: 0.9466666666666667\n",
            "New set of weights found, iteration: 640 loss: 0.24799213 acc: 0.95\n",
            "New set of weights found, iteration: 641 loss: 0.24678963 acc: 0.9466666666666667\n",
            "New set of weights found, iteration: 648 loss: 0.24428904 acc: 0.9466666666666667\n",
            "New set of weights found, iteration: 653 loss: 0.24415667 acc: 0.9533333333333334\n",
            "New set of weights found, iteration: 661 loss: 0.24315967 acc: 0.94\n",
            "New set of weights found, iteration: 666 loss: 0.24202281 acc: 0.94\n",
            "New set of weights found, iteration: 673 loss: 0.23726493 acc: 0.95\n",
            "New set of weights found, iteration: 674 loss: 0.23466665 acc: 0.9533333333333334\n",
            "New set of weights found, iteration: 678 loss: 0.23364176 acc: 0.9566666666666667\n",
            "New set of weights found, iteration: 681 loss: 0.23223673 acc: 0.9566666666666667\n",
            "New set of weights found, iteration: 688 loss: 0.22899693 acc: 0.95\n",
            "New set of weights found, iteration: 690 loss: 0.22874486 acc: 0.95\n",
            "New set of weights found, iteration: 700 loss: 0.22829106 acc: 0.9533333333333334\n",
            "New set of weights found, iteration: 701 loss: 0.22640513 acc: 0.9466666666666667\n",
            "New set of weights found, iteration: 706 loss: 0.2258104 acc: 0.9466666666666667\n",
            "New set of weights found, iteration: 708 loss: 0.2237883 acc: 0.95\n",
            "New set of weights found, iteration: 712 loss: 0.22159691 acc: 0.95\n",
            "New set of weights found, iteration: 736 loss: 0.2197705 acc: 0.9533333333333334\n",
            "New set of weights found, iteration: 737 loss: 0.2195585 acc: 0.95\n",
            "New set of weights found, iteration: 742 loss: 0.21781543 acc: 0.95\n",
            "New set of weights found, iteration: 746 loss: 0.21623632 acc: 0.95\n",
            "New set of weights found, iteration: 747 loss: 0.21483393 acc: 0.9466666666666667\n",
            "New set of weights found, iteration: 748 loss: 0.21402276 acc: 0.9433333333333334\n",
            "New set of weights found, iteration: 766 loss: 0.2110093 acc: 0.95\n",
            "New set of weights found, iteration: 776 loss: 0.2108963 acc: 0.9533333333333334\n",
            "New set of weights found, iteration: 777 loss: 0.20933242 acc: 0.9466666666666667\n",
            "New set of weights found, iteration: 782 loss: 0.20707688 acc: 0.95\n",
            "New set of weights found, iteration: 788 loss: 0.20515686 acc: 0.9533333333333334\n",
            "New set of weights found, iteration: 790 loss: 0.20339362 acc: 0.9466666666666667\n",
            "New set of weights found, iteration: 793 loss: 0.20216769 acc: 0.9466666666666667\n",
            "New set of weights found, iteration: 796 loss: 0.20120835 acc: 0.9533333333333334\n",
            "New set of weights found, iteration: 799 loss: 0.1970496 acc: 0.9466666666666667\n",
            "New set of weights found, iteration: 800 loss: 0.19691163 acc: 0.9533333333333334\n",
            "New set of weights found, iteration: 808 loss: 0.19552137 acc: 0.9533333333333334\n",
            "New set of weights found, iteration: 809 loss: 0.19334246 acc: 0.9533333333333334\n",
            "New set of weights found, iteration: 816 loss: 0.1930511 acc: 0.95\n",
            "New set of weights found, iteration: 822 loss: 0.19124901 acc: 0.9433333333333334\n",
            "New set of weights found, iteration: 823 loss: 0.19026023 acc: 0.95\n",
            "New set of weights found, iteration: 825 loss: 0.18944286 acc: 0.95\n",
            "New set of weights found, iteration: 850 loss: 0.18758792 acc: 0.95\n",
            "New set of weights found, iteration: 851 loss: 0.18687999 acc: 0.95\n",
            "New set of weights found, iteration: 858 loss: 0.18570091 acc: 0.9466666666666667\n",
            "New set of weights found, iteration: 863 loss: 0.18441057 acc: 0.9466666666666667\n",
            "New set of weights found, iteration: 866 loss: 0.18410873 acc: 0.9466666666666667\n",
            "New set of weights found, iteration: 879 loss: 0.18383312 acc: 0.95\n",
            "New set of weights found, iteration: 889 loss: 0.18375394 acc: 0.9533333333333334\n",
            "New set of weights found, iteration: 896 loss: 0.18162212 acc: 0.95\n",
            "New set of weights found, iteration: 898 loss: 0.17961738 acc: 0.9566666666666667\n",
            "New set of weights found, iteration: 907 loss: 0.17862384 acc: 0.95\n",
            "New set of weights found, iteration: 920 loss: 0.17707652 acc: 0.9533333333333334\n",
            "New set of weights found, iteration: 925 loss: 0.17493129 acc: 0.95\n",
            "New set of weights found, iteration: 935 loss: 0.17419396 acc: 0.9466666666666667\n",
            "New set of weights found, iteration: 947 loss: 0.17324458 acc: 0.9566666666666667\n",
            "New set of weights found, iteration: 954 loss: 0.17138913 acc: 0.9533333333333334\n",
            "New set of weights found, iteration: 960 loss: 0.17003688 acc: 0.9566666666666667\n",
            "New set of weights found, iteration: 962 loss: 0.16867343 acc: 0.95\n",
            "New set of weights found, iteration: 987 loss: 0.16712672 acc: 0.9533333333333334\n",
            "New set of weights found, iteration: 993 loss: 0.16672668 acc: 0.95\n",
            "New set of weights found, iteration: 997 loss: 0.16591007 acc: 0.95\n",
            "New set of weights found, iteration: 998 loss: 0.164506 acc: 0.95\n",
            "New set of weights found, iteration: 999 loss: 0.16244814 acc: 0.9533333333333334\n",
            "New set of weights found, iteration: 1001 loss: 0.1616631 acc: 0.95\n",
            "New set of weights found, iteration: 1004 loss: 0.16142471 acc: 0.9566666666666667\n",
            "New set of weights found, iteration: 1014 loss: 0.16051722 acc: 0.9533333333333334\n",
            "New set of weights found, iteration: 1015 loss: 0.15901516 acc: 0.9533333333333334\n",
            "New set of weights found, iteration: 1024 loss: 0.15892921 acc: 0.9533333333333334\n",
            "New set of weights found, iteration: 1030 loss: 0.15834938 acc: 0.9533333333333334\n",
            "New set of weights found, iteration: 1032 loss: 0.15753865 acc: 0.9566666666666667\n",
            "New set of weights found, iteration: 1036 loss: 0.15697274 acc: 0.9466666666666667\n",
            "New set of weights found, iteration: 1039 loss: 0.15590984 acc: 0.9566666666666667\n",
            "New set of weights found, iteration: 1041 loss: 0.15252614 acc: 0.9533333333333334\n",
            "New set of weights found, iteration: 1045 loss: 0.15215322 acc: 0.9533333333333334\n",
            "New set of weights found, iteration: 1064 loss: 0.15201645 acc: 0.95\n",
            "New set of weights found, iteration: 1077 loss: 0.1507966 acc: 0.9533333333333334\n",
            "New set of weights found, iteration: 1081 loss: 0.14962158 acc: 0.9566666666666667\n",
            "New set of weights found, iteration: 1082 loss: 0.1490309 acc: 0.95\n",
            "New set of weights found, iteration: 1086 loss: 0.14835754 acc: 0.95\n",
            "New set of weights found, iteration: 1116 loss: 0.14780708 acc: 0.9566666666666667\n",
            "New set of weights found, iteration: 1123 loss: 0.14724559 acc: 0.96\n",
            "New set of weights found, iteration: 1124 loss: 0.14602023 acc: 0.95\n",
            "New set of weights found, iteration: 1125 loss: 0.14541252 acc: 0.9566666666666667\n",
            "New set of weights found, iteration: 1127 loss: 0.14486705 acc: 0.95\n",
            "New set of weights found, iteration: 1144 loss: 0.14422591 acc: 0.9533333333333334\n",
            "New set of weights found, iteration: 1149 loss: 0.14405988 acc: 0.9533333333333334\n",
            "New set of weights found, iteration: 1154 loss: 0.14279585 acc: 0.95\n",
            "New set of weights found, iteration: 1162 loss: 0.14218748 acc: 0.9533333333333334\n",
            "New set of weights found, iteration: 1167 loss: 0.14061321 acc: 0.95\n",
            "New set of weights found, iteration: 1180 loss: 0.1404478 acc: 0.95\n",
            "New set of weights found, iteration: 1193 loss: 0.13794929 acc: 0.9533333333333334\n",
            "New set of weights found, iteration: 1250 loss: 0.13621642 acc: 0.9533333333333334\n",
            "New set of weights found, iteration: 1257 loss: 0.1358871 acc: 0.95\n",
            "New set of weights found, iteration: 1260 loss: 0.13575321 acc: 0.9533333333333334\n",
            "New set of weights found, iteration: 1262 loss: 0.13462505 acc: 0.9533333333333334\n",
            "New set of weights found, iteration: 1264 loss: 0.13408251 acc: 0.95\n",
            "New set of weights found, iteration: 1266 loss: 0.13158923 acc: 0.9533333333333334\n",
            "New set of weights found, iteration: 1289 loss: 0.1310509 acc: 0.9533333333333334\n",
            "New set of weights found, iteration: 1295 loss: 0.13055061 acc: 0.9533333333333334\n",
            "New set of weights found, iteration: 1302 loss: 0.12998816 acc: 0.9566666666666667\n",
            "New set of weights found, iteration: 1305 loss: 0.12977403 acc: 0.9566666666666667\n",
            "New set of weights found, iteration: 1320 loss: 0.12974745 acc: 0.9533333333333334\n",
            "New set of weights found, iteration: 1322 loss: 0.12966256 acc: 0.9566666666666667\n",
            "New set of weights found, iteration: 1323 loss: 0.1293172 acc: 0.9533333333333334\n",
            "New set of weights found, iteration: 1325 loss: 0.12928054 acc: 0.9533333333333334\n",
            "New set of weights found, iteration: 1345 loss: 0.12912665 acc: 0.9533333333333334\n",
            "New set of weights found, iteration: 1353 loss: 0.12727101 acc: 0.9566666666666667\n",
            "New set of weights found, iteration: 1365 loss: 0.12720095 acc: 0.9533333333333334\n",
            "New set of weights found, iteration: 1374 loss: 0.12716688 acc: 0.9566666666666667\n",
            "New set of weights found, iteration: 1378 loss: 0.12664479 acc: 0.9533333333333334\n",
            "New set of weights found, iteration: 1386 loss: 0.12654118 acc: 0.9566666666666667\n",
            "New set of weights found, iteration: 1387 loss: 0.12609091 acc: 0.9566666666666667\n",
            "New set of weights found, iteration: 1388 loss: 0.12572749 acc: 0.9533333333333334\n",
            "New set of weights found, iteration: 1391 loss: 0.12545536 acc: 0.9566666666666667\n",
            "New set of weights found, iteration: 1392 loss: 0.12535793 acc: 0.9566666666666667\n",
            "New set of weights found, iteration: 1400 loss: 0.12487788 acc: 0.9566666666666667\n",
            "New set of weights found, iteration: 1401 loss: 0.124583475 acc: 0.9533333333333334\n",
            "New set of weights found, iteration: 1410 loss: 0.123527326 acc: 0.9566666666666667\n",
            "New set of weights found, iteration: 1413 loss: 0.123406306 acc: 0.9533333333333334\n",
            "New set of weights found, iteration: 1415 loss: 0.12307739 acc: 0.9533333333333334\n",
            "New set of weights found, iteration: 1418 loss: 0.12303342 acc: 0.9566666666666667\n",
            "New set of weights found, iteration: 1420 loss: 0.1221589 acc: 0.9533333333333334\n",
            "New set of weights found, iteration: 1423 loss: 0.12162912 acc: 0.9566666666666667\n",
            "New set of weights found, iteration: 1425 loss: 0.12126106 acc: 0.9533333333333334\n",
            "New set of weights found, iteration: 1426 loss: 0.12120346 acc: 0.9566666666666667\n",
            "New set of weights found, iteration: 1449 loss: 0.12011387 acc: 0.9533333333333334\n",
            "New set of weights found, iteration: 1496 loss: 0.12009983 acc: 0.9533333333333334\n",
            "New set of weights found, iteration: 1510 loss: 0.11989464 acc: 0.9566666666666667\n",
            "New set of weights found, iteration: 1563 loss: 0.11989052 acc: 0.9566666666666667\n",
            "New set of weights found, iteration: 1581 loss: 0.119682096 acc: 0.9566666666666667\n",
            "New set of weights found, iteration: 1590 loss: 0.11952674 acc: 0.9566666666666667\n",
            "New set of weights found, iteration: 1617 loss: 0.11915365 acc: 0.9566666666666667\n",
            "New set of weights found, iteration: 1621 loss: 0.1191405 acc: 0.9566666666666667\n",
            "New set of weights found, iteration: 1647 loss: 0.11855924 acc: 0.9566666666666667\n",
            "New set of weights found, iteration: 1650 loss: 0.11820464 acc: 0.9566666666666667\n",
            "New set of weights found, iteration: 1669 loss: 0.117955044 acc: 0.9533333333333334\n",
            "New set of weights found, iteration: 1670 loss: 0.117547214 acc: 0.9533333333333334\n",
            "New set of weights found, iteration: 1685 loss: 0.11723164 acc: 0.9533333333333334\n",
            "New set of weights found, iteration: 1744 loss: 0.11699928 acc: 0.9533333333333334\n",
            "New set of weights found, iteration: 1752 loss: 0.11673319 acc: 0.9566666666666667\n",
            "New set of weights found, iteration: 1777 loss: 0.11655178 acc: 0.9533333333333334\n",
            "New set of weights found, iteration: 1816 loss: 0.116454214 acc: 0.9533333333333334\n",
            "New set of weights found, iteration: 1818 loss: 0.116385825 acc: 0.9566666666666667\n",
            "New set of weights found, iteration: 1837 loss: 0.11634085 acc: 0.9533333333333334\n",
            "New set of weights found, iteration: 1857 loss: 0.11606889 acc: 0.9533333333333334\n",
            "New set of weights found, iteration: 1872 loss: 0.11604688 acc: 0.9566666666666667\n",
            "New set of weights found, iteration: 1876 loss: 0.11604482 acc: 0.9566666666666667\n",
            "New set of weights found, iteration: 1930 loss: 0.11601616 acc: 0.9566666666666667\n",
            "New set of weights found, iteration: 1983 loss: 0.11590522 acc: 0.9533333333333334\n",
            "New set of weights found, iteration: 2011 loss: 0.11583252 acc: 0.9566666666666667\n",
            "New set of weights found, iteration: 2138 loss: 0.11582448 acc: 0.9566666666666667\n",
            "New set of weights found, iteration: 2147 loss: 0.11560453 acc: 0.9566666666666667\n",
            "New set of weights found, iteration: 2376 loss: 0.11555774 acc: 0.9533333333333334\n",
            "New set of weights found, iteration: 2488 loss: 0.115497954 acc: 0.9533333333333334\n",
            "New set of weights found, iteration: 2556 loss: 0.11544902 acc: 0.9566666666666667\n",
            "New set of weights found, iteration: 2577 loss: 0.11540555 acc: 0.9533333333333334\n",
            "New set of weights found, iteration: 2616 loss: 0.11540483 acc: 0.9566666666666667\n",
            "New set of weights found, iteration: 2622 loss: 0.11539652 acc: 0.9533333333333334\n",
            "New set of weights found, iteration: 2627 loss: 0.11532422 acc: 0.9566666666666667\n",
            "New set of weights found, iteration: 2662 loss: 0.11526938 acc: 0.9566666666666667\n",
            "New set of weights found, iteration: 2663 loss: 0.11522191 acc: 0.9533333333333334\n",
            "New set of weights found, iteration: 2719 loss: 0.11521276 acc: 0.9566666666666667\n",
            "New set of weights found, iteration: 2720 loss: 0.1151848 acc: 0.9566666666666667\n",
            "New set of weights found, iteration: 2765 loss: 0.11518185 acc: 0.9566666666666667\n",
            "New set of weights found, iteration: 2907 loss: 0.11517395 acc: 0.9533333333333334\n",
            "New set of weights found, iteration: 2918 loss: 0.11517327 acc: 0.9533333333333334\n",
            "New set of weights found, iteration: 2923 loss: 0.11507074 acc: 0.9533333333333334\n",
            "New set of weights found, iteration: 3574 loss: 0.115037255 acc: 0.9533333333333334\n",
            "New set of weights found, iteration: 3692 loss: 0.11501283 acc: 0.9566666666666667\n",
            "New set of weights found, iteration: 4100 loss: 0.11499283 acc: 0.9566666666666667\n",
            "New set of weights found, iteration: 4419 loss: 0.114986405 acc: 0.9566666666666667\n",
            "New set of weights found, iteration: 4579 loss: 0.11497782 acc: 0.9566666666666667\n",
            "New set of weights found, iteration: 4605 loss: 0.114966676 acc: 0.9533333333333334\n",
            "New set of weights found, iteration: 6552 loss: 0.11495149 acc: 0.9566666666666667\n",
            "New set of weights found, iteration: 6834 loss: 0.11494923 acc: 0.9566666666666667\n",
            "New set of weights found, iteration: 8292 loss: 0.1149485 acc: 0.9533333333333334\n",
            "New set of weights found, iteration: 9315 loss: 0.1149336 acc: 0.9566666666666667\n"
          ]
        }
      ]
    },
    {
      "cell_type": "code",
      "source": [
        "plt.plot(drop)"
      ],
      "metadata": {
        "colab": {
          "base_uri": "https://localhost:8080/",
          "height": 447
        },
        "id": "0546FXa47Qnz",
        "outputId": "950d008c-fc10-4ed0-a9ee-e25f73305c21"
      },
      "execution_count": 127,
      "outputs": [
        {
          "output_type": "execute_result",
          "data": {
            "text/plain": [
              "[<matplotlib.lines.Line2D at 0x7ecefd56b050>]"
            ]
          },
          "metadata": {},
          "execution_count": 127
        },
        {
          "output_type": "display_data",
          "data": {
            "text/plain": [
              "<Figure size 640x480 with 1 Axes>"
            ],
            "image/png": "[encoded data removed]"
          },
          "metadata": {}
        }
      ]
    }
  ]
}