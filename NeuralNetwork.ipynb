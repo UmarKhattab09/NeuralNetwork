{
  "nbformat": 4,
  "nbformat_minor": 0,
  "metadata": {
    "colab": {
      "provenance": [],
      "authorship_tag": "ABX9TyNbpvMx45wP6c7yIan+pfyU",
      "include_colab_link": true
    },
    "kernelspec": {
      "name": "python3",
      "display_name": "Python 3"
    },
    "language_info": {
      "name": "python"
    }
  },
  "cells": [
    {
      "cell_type": "markdown",
      "metadata": {
        "id": "view-in-github",
        "colab_type": "text"
      },
      "source": [
        "<a href=\"https://colab.research.google.com/github/UmarKhattab09/NeuralNetwork/blob/main/NeuralNetwork.ipynb\" target=\"_parent\"><img src=\"https://colab.research.google.com/assets/colab-badge.svg\" alt=\"Open In Colab\"/></a>"
      ]
    },
    {
      "cell_type": "markdown",
      "source": [
        "# First Model"
      ],
      "metadata": {
        "id": "ZQOk-mtUQFJC"
      }
    },
    {
      "cell_type": "markdown",
      "source": [],
      "metadata": {
        "id": "6ej5B4k7jjkO"
      }
    },
    {
      "cell_type": "code",
      "execution_count": 52,
      "metadata": {
        "id": "D0R0SiSo9mNn"
      },
      "outputs": [],
      "source": [
        "import numpy"
      ]
    },
    {
      "cell_type": "code",
      "source": [
        "def sigmoid(x):\n",
        "  return 1/(1 + numpy.exp(-x))\n",
        "\n",
        "def NN(m1,m2,w1,w2,b):\n",
        "  z = (m1*w1)+(m2*w2)+b\n",
        "  return sigmoid(z)\n"
      ],
      "metadata": {
        "id": "yXBt3vjxQBju"
      },
      "execution_count": 54,
      "outputs": []
    },
    {
      "cell_type": "code",
      "source": [
        "data = [[3,1.5,1],[2,1,0],[4,1.5,1],[3,1,0],[3.5,0.5,1],[2,0.5,0],[5.5,1,1],[1,1,0]]\n",
        "rand_data = data[numpy.random.randint(len(data))]\n",
        "rand_data\n",
        "m1 = rand_data[0]\n",
        "m2 = rand_data[1]\n",
        "w1 = numpy.random.randn()\n",
        "w2 = numpy.random.randn()\n",
        "b = numpy.random.randn()\n",
        "print(f\"Using {rand_data} with weights w1 {w1}, w2: {w2} , and b {b}\")\n",
        "prediction = NN(m1,m2,w1,w2,b)\n",
        "print(prediction)\n",
        "prediction__text = [\"blue\",\"red\"][int(numpy.round(prediction))]\n",
        "prediction__text\n"
      ],
      "metadata": {
        "colab": {
          "base_uri": "https://localhost:8080/",
          "height": 70
        },
        "id": "9oeDad5cRrdO",
        "outputId": "04928a50-873d-4815-e815-65c93b7afa3a"
      },
      "execution_count": 57,
      "outputs": [
        {
          "output_type": "stream",
          "name": "stdout",
          "text": [
            "Using [1, 1, 0] with weights w1 -0.9481236097940571, w2: -0.4356689622629869 , and b 0.8853454919357847\n",
            "0.37790568007507014\n"
          ]
        },
        {
          "output_type": "execute_result",
          "data": {
            "text/plain": [
              "'blue'"
            ],
            "application/vnd.google.colaboratory.intrinsic+json": {
              "type": "string"
            }
          },
          "metadata": {},
          "execution_count": 57
        }
      ]
    },
    {
      "cell_type": "markdown",
      "source": [
        "# Second Model\n"
      ],
      "metadata": {
        "id": "G-ykBCYtjjmt"
      }
    },
    {
      "cell_type": "code",
      "source": [
        "from matplotlib import pyplot as plt\n",
        "import numpy as np"
      ],
      "metadata": {
        "id": "yJ5i86_tjsWu"
      },
      "execution_count": 2,
      "outputs": []
    },
    {
      "cell_type": "code",
      "source": [
        "data = [[3,1.5,1],[2,1,0],[4,1.5,1],[3,1,0],[3.5,0.5,1],[2,0.5,0],[5.5,1,1],[1,1,0]]\n",
        "mysteryflower = [4.5,1]"
      ],
      "metadata": {
        "id": "8DGOYo0JjuDG"
      },
      "execution_count": 24,
      "outputs": []
    },
    {
      "cell_type": "code",
      "source": [
        "# Acessing Data\n",
        "#data[2][1]\n",
        "\n",
        "#NETWORK\n",
        "#    o  <-- Flower Type\n",
        "#  /  \\  w1,w2,b\n",
        "# o    o  length,width\n",
        "\n",
        "w1 = np.random.randn()\n",
        "w2 = np.random.randn()\n",
        "b = np.random.randn()\n",
        "print(w1)\n",
        "print(w2)\n",
        "print(b)"
      ],
      "metadata": {
        "colab": {
          "base_uri": "https://localhost:8080/"
        },
        "id": "Y6aOkOBOkBiS",
        "outputId": "eaf73419-ca1f-457c-b25c-330826c851c7"
      },
      "execution_count": 25,
      "outputs": [
        {
          "output_type": "stream",
          "name": "stdout",
          "text": [
            "-1.651168106416558\n",
            "-0.7885732769400057\n",
            "-0.06476493826092983\n"
          ]
        }
      ]
    },
    {
      "cell_type": "code",
      "source": [
        "def sigmoid(x):\n",
        "  return 1/(1 + np.exp(-x))\n",
        "\n",
        "T = np.linspace(-6,6,100)\n",
        "def sigmoid_p(x):\n",
        "  return sigmoid(x)*(1-sigmoid(x))"
      ],
      "metadata": {
        "id": "2aZw19uGkoFi"
      },
      "execution_count": 26,
      "outputs": []
    },
    {
      "cell_type": "code",
      "source": [
        "Y1 = sigmoid(T)\n",
        "Y2 = sigmoid_p(T)\n",
        "plt.plot(T,Y1,c ='r')\n",
        "plt.plot(T,Y2,c='b')\n"
      ],
      "metadata": {
        "colab": {
          "base_uri": "https://localhost:8080/",
          "height": 447
        },
        "id": "Vxq19RsFk-nQ",
        "outputId": "ebd0088f-7524-44d6-edc8-860739da047b"
      },
      "execution_count": 27,
      "outputs": [
        {
          "output_type": "execute_result",
          "data": {
            "text/plain": [
              "[<matplotlib.lines.Line2D at 0x7e56d59d7590>]"
            ]
          },
          "metadata": {},
          "execution_count": 27
        },
        {
          "output_type": "display_data",
          "data": {
            "text/plain": [
              "<Figure size 640x480 with 1 Axes>"
            ],
            "image/png": "[encoded data removed]"
          },
          "metadata": {}
        }
      ]
    },
    {
      "cell_type": "code",
      "source": [],
      "metadata": {
        "id": "DUS_XoCcnBCa"
      },
      "execution_count": 90,
      "outputs": []
    },
    {
      "cell_type": "code",
      "source": [
        "learning_rate = 1\n",
        "costs = []\n",
        "for i in range(50000):\n",
        "  ri = np.random.randint(len(data))\n",
        "  point = data[ri]\n",
        "  z = (point[0]*w1)+(point[1]*w2)+b\n",
        "  pred = sigmoid(z)\n",
        "  target = point[2]\n",
        "  cost = np.square(pred-target)\n",
        "  costs.append(cost)\n",
        "\n",
        "\n",
        "  dcost_pred = 2*(pred-target)\n",
        "  dpred_dz = sigmoid_p(z)\n",
        "  dz_dw1 = point[0]\n",
        "  dz_dw2 = point[1]\n",
        "  dz_db = 1\n",
        "  dcost_dw1 = dcost_pred*dpred_dz * dz_dw1\n",
        "  dcost_dw2 = dcost_pred*dpred_dz * dz_dw2\n",
        "  dcost_db = dcost_pred*dpred_dz * dz_db\n",
        "  w1 = w1 - learning_rate*dcost_dw1\n",
        "  w2 = w2 - learning_rate*dcost_dw2\n",
        "  b = b - learning_rate*dcost_db\n",
        "\n",
        "plt.plot(costs)\n"
      ],
      "metadata": {
        "colab": {
          "base_uri": "https://localhost:8080/",
          "height": 447
        },
        "id": "0KnDIC7Una69",
        "outputId": "4f315019-5e74-4f84-e53d-df7c270e33bc"
      },
      "execution_count": 43,
      "outputs": [
        {
          "output_type": "execute_result",
          "data": {
            "text/plain": [
              "[<matplotlib.lines.Line2D at 0x7e56d5ae6f90>]"
            ]
          },
          "metadata": {},
          "execution_count": 43
        },
        {
          "output_type": "display_data",
          "data": {
            "text/plain": [
              "<Figure size 640x480 with 1 Axes>"
            ],
            "image/png": "[encoded data removed]"
          },
          "metadata": {}
        }
      ]
    },
    {
      "cell_type": "code",
      "source": [
        "w1,w2,b"
      ],
      "metadata": {
        "colab": {
          "base_uri": "https://localhost:8080/"
        },
        "id": "vLBljNcmrrk5",
        "outputId": "cb4fc637-d525-4374-979e-e98390ba6940"
      },
      "execution_count": 44,
      "outputs": [
        {
          "output_type": "execute_result",
          "data": {
            "text/plain": [
              "(np.float64(16.156011021495893),\n",
              " np.float64(7.839932751625325),\n",
              " np.float64(-58.39827647116853))"
            ]
          },
          "metadata": {},
          "execution_count": 44
        }
      ]
    },
    {
      "cell_type": "code",
      "source": [
        "z = w1 * mysteryflower[0] + w2 * mysteryflower[1] + b\n",
        "pred = sigmoid(z)\n",
        "\n",
        "print(pred)\n",
        "print(\"close to 0 -> blue, close to 1 -> red\")"
      ],
      "metadata": {
        "colab": {
          "base_uri": "https://localhost:8080/"
        },
        "id": "DezdGYk8qeM1",
        "outputId": "1751dfa3-2db6-4a71-9fbf-42983bd95ca0"
      },
      "execution_count": 45,
      "outputs": [
        {
          "output_type": "stream",
          "name": "stdout",
          "text": [
            "0.9999999997583924\n",
            "close to 0 -> blue, close to 1 -> red\n"
          ]
        }
      ]
    },
    {
      "cell_type": "code",
      "source": [
        "learning_rate = 1\n",
        "costs = []\n",
        "for i in range(10):\n",
        "  ri = np.random.randint(len(data))\n",
        "  point = data[ri]\n",
        "  print(point)\n",
        "  z = (point[0]*w1)+(point[1]*w2)+b\n",
        "  print(z)\n",
        "  pred = sigmoid(z)\n",
        "  print(pred)\n",
        "  target = point[2]\n",
        "\n",
        "  cost = np.square(pred-target)\n",
        "  print(cost)\n",
        "  costs.append(cost)\n",
        ""
      ],
      "metadata": {
        "colab": {
          "base_uri": "https://localhost:8080/"
        },
        "id": "3pl_3gksh652",
        "outputId": "12e8f9e9-fbe3-4cb3-fe34-256749a19d98"
      },
      "execution_count": 13,
      "outputs": [
        {
          "output_type": "stream",
          "name": "stdout",
          "text": [
            "[3, 1.5, 1]\n",
            "2.8794717676727473\n",
            "0.9468222734569378\n",
            "0.002827870600288701\n",
            "[5.5, 1, 1]\n",
            "39.71214703237201\n",
            "1.0\n",
            "0.0\n",
            "[3, 1, 0]\n",
            "-1.1320798149196136\n",
            "0.24377748268969462\n",
            "0.05942746106652436\n",
            "[1, 1, 0]\n",
            "-33.807461292752905\n",
            "2.077811345865117e-15\n",
            "4.3172999890058084e-30\n",
            "[3.5, 0.5, 1]\n",
            "3.025213971946357\n",
            "0.9537002992222694\n",
            "0.0021436622921073875\n",
            "[2, 1, 0]\n",
            "-17.469770553836263\n",
            "2.588064151095609e-08\n",
            "6.698076050186234e-16\n",
            "[2, 0.5, 0]\n",
            "-21.481322136428616\n",
            "4.685763142545868e-10\n",
            "2.1956376228041327e-19\n",
            "[3.5, 0.5, 1]\n",
            "3.025213971946357\n",
            "0.9537002992222694\n",
            "0.0021436622921073875\n",
            "[3, 1.5, 1]\n",
            "2.8794717676727473\n",
            "0.9468222734569378\n",
            "0.002827870600288701\n",
            "[3, 1.5, 1]\n",
            "2.8794717676727473\n",
            "0.9468222734569378\n",
            "0.002827870600288701\n"
          ]
        }
      ]
    },
    {
      "cell_type": "code",
      "source": [
        "#Scatter Data\n",
        "for i in range(len(data)):\n",
        "  point = data[i]\n",
        "  color = \"r\"\n",
        "  if point[2] == 0:\n",
        "    color = \"b\"\n",
        "  plt.scatter(point[0],point[1],c = color)\n",
        "\n",
        "plt.scatter(mysteryflower[0],mysteryflower[1],c=\"green\")\n",
        "plt.grid()\n",
        "plt.axis([0,6,0,6])"
      ],
      "metadata": {
        "colab": {
          "base_uri": "https://localhost:8080/",
          "height": 452
        },
        "id": "tJxx111OoBF5",
        "outputId": "108846f7-96cb-4dcb-9996-48b4fdf0e691"
      },
      "execution_count": 88,
      "outputs": [
        {
          "output_type": "execute_result",
          "data": {
            "text/plain": [
              "(np.float64(0.0), np.float64(6.0), np.float64(0.0), np.float64(6.0))"
            ]
          },
          "metadata": {},
          "execution_count": 88
        },
        {
          "output_type": "display_data",
          "data": {
            "text/plain": [
              "<Figure size 640x480 with 1 Axes>"
            ],
            "image/png": "[encoded data removed]"
          },
          "metadata": {}
        }
      ]
    },
    {
      "cell_type": "code",
      "source": [
        "# check out the networks predictions in the x,y plane\n",
        "for x in np.linspace(0, 6, 20):\n",
        "    for y in np.linspace(0, 3, 20):\n",
        "        pred = sigmoid(w1 * x + w2 * y + b)\n",
        "        c = 'b'\n",
        "        if pred > .5:\n",
        "            c = 'r'\n",
        "        plt.scatter([x],[y],c=c, alpha=.2)\n",
        "\n",
        "# plot points over network predictions\n",
        "# you should see a split, with half the predictions blue\n",
        "# and the other half red.. nicely predicting each data point!\n",
        "#Scatter Data\n",
        "for i in range(len(data)):\n",
        "  point = data[i]\n",
        "  color = \"r\"\n",
        "  if point[2] == 0:\n",
        "    color = \"b\"\n",
        "  plt.scatter(point[0],point[1],c = color)\n",
        "\n",
        "plt.scatter(mysteryflower[0],mysteryflower[1],c=\"green\")\n",
        "plt.grid()"
      ],
      "metadata": {
        "colab": {
          "base_uri": "https://localhost:8080/",
          "height": 430
        },
        "id": "qqtz4MjSr5Xd",
        "outputId": "59c017e0-7b9e-4063-8a38-e0ad80189979"
      },
      "execution_count": 50,
      "outputs": [
        {
          "output_type": "display_data",
          "data": {
            "text/plain": [
              "<Figure size 640x480 with 1 Axes>"
            ],
            "image/png": "[encoded data removed]"
          },
          "metadata": {}
        }
      ]
    }
  ]
}